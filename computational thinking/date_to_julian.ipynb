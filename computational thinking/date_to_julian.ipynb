{
  "nbformat": 4,
  "nbformat_minor": 0,
  "metadata": {
    "colab": {
      "provenance": []
    },
    "kernelspec": {
      "name": "python3",
      "display_name": "Python 3"
    },
    "language_info": {
      "name": "python"
    }
  },
  "cells": [
    {
      "cell_type": "code",
      "source": [
        "def standardize_date(date: str) -> str:\n",
        "    months = {\"Jan\": \"1\", \"Feb\": \"2\", \"Mar\": \"3\", \"Apr\": \"4\",\n",
        "              \"May\": \"5\", \"Jun\": \"6\", \"Jul\": \"7\", \"Aug\":\"8\",\n",
        "              \"Sep\": \"9\", \"Oct\" :\"10\", \"Nov\": \"11\", \"Dec\": \"12\"}\n",
        "    dd, mon, yyyy = date.strip().replace(\",\", \" \").split()\n",
        "    mm = months[mon.capitalize()[:3]]\n",
        "    return dd + \"/\" + mm + \"/\" + yyyy"
      ],
      "metadata": {
        "id": "UGu3zyLlxR7D"
      },
      "execution_count": 26,
      "outputs": []
    },
    {
      "cell_type": "code",
      "source": [
        "def is_leap_year(year):\n",
        "    return (year % 4 == 0 and year % 100 != 0) or (year % 400 == 0)"
      ],
      "metadata": {
        "id": "c-TfLuibxc1c"
      },
      "execution_count": 27,
      "outputs": []
    },
    {
      "cell_type": "code",
      "source": [
        "def to_julian(date: str) -> str:\n",
        "    date_standardized = standardize_date(date)\n",
        "    day, month, year = map(int, date_standardized.split(\"/\"))\n",
        "\n",
        "    leap_year = is_leap_year(year)\n",
        "    days_in_month = [31, 29 if leap_year else 28, 31, 30, 31, 30, 31, 31, 30, 31, 30, 31]\n",
        "\n",
        "    julian_day = sum(days_in_month[:month - 1]) + day\n",
        "    return f\"{year}{julian_day:03d}\""
      ],
      "metadata": {
        "id": "bMKs0lsuxZab"
      },
      "execution_count": 29,
      "outputs": []
    },
    {
      "cell_type": "code",
      "source": [
        "to_julian(\"18 MAR 2024\")"
      ],
      "metadata": {
        "colab": {
          "base_uri": "https://localhost:8080/",
          "height": 36
        },
        "id": "ZRNgRH8SyCX5",
        "outputId": "d2bc222f-cb5b-448c-f2e9-6bd88fd44303"
      },
      "execution_count": 30,
      "outputs": [
        {
          "output_type": "execute_result",
          "data": {
            "text/plain": [
              "'2024078'"
            ],
            "application/vnd.google.colaboratory.intrinsic+json": {
              "type": "string"
            }
          },
          "metadata": {},
          "execution_count": 30
        }
      ]
    },
    {
      "cell_type": "code",
      "source": [
        "to_julian(\"29 FEB 2020\")"
      ],
      "metadata": {
        "colab": {
          "base_uri": "https://localhost:8080/",
          "height": 36
        },
        "id": "ZSuBiu2JyJ5z",
        "outputId": "7ea63a4a-4b0f-4a3c-d453-a9ac874d7cb7"
      },
      "execution_count": 31,
      "outputs": [
        {
          "output_type": "execute_result",
          "data": {
            "text/plain": [
              "'2020060'"
            ],
            "application/vnd.google.colaboratory.intrinsic+json": {
              "type": "string"
            }
          },
          "metadata": {},
          "execution_count": 31
        }
      ]
    },
    {
      "cell_type": "code",
      "source": [
        "to_julian(\"31 JAN 2023\")"
      ],
      "metadata": {
        "colab": {
          "base_uri": "https://localhost:8080/",
          "height": 36
        },
        "id": "R8b029ClyKqY",
        "outputId": "f20a78de-914f-4cf4-f781-267604dddaf6"
      },
      "execution_count": 32,
      "outputs": [
        {
          "output_type": "execute_result",
          "data": {
            "text/plain": [
              "'2023031'"
            ],
            "application/vnd.google.colaboratory.intrinsic+json": {
              "type": "string"
            }
          },
          "metadata": {},
          "execution_count": 32
        }
      ]
    },
    {
      "cell_type": "code",
      "source": [
        "to_julian(\"31 MARCH 2023\")"
      ],
      "metadata": {
        "colab": {
          "base_uri": "https://localhost:8080/",
          "height": 36
        },
        "id": "LXYvOFFsyLTL",
        "outputId": "998830bf-6957-4a79-ac50-21d82a6b75e9"
      },
      "execution_count": 33,
      "outputs": [
        {
          "output_type": "execute_result",
          "data": {
            "text/plain": [
              "'2023090'"
            ],
            "application/vnd.google.colaboratory.intrinsic+json": {
              "type": "string"
            }
          },
          "metadata": {},
          "execution_count": 33
        }
      ]
    },
    {
      "cell_type": "code",
      "source": [
        "to_julian(\"1 JAN 1\")"
      ],
      "metadata": {
        "colab": {
          "base_uri": "https://localhost:8080/",
          "height": 36
        },
        "id": "_8mKGsovyL9D",
        "outputId": "8bcdbd7e-3064-43a2-aaf7-2446445bc63f"
      },
      "execution_count": 34,
      "outputs": [
        {
          "output_type": "execute_result",
          "data": {
            "text/plain": [
              "'1001'"
            ],
            "application/vnd.google.colaboratory.intrinsic+json": {
              "type": "string"
            }
          },
          "metadata": {},
          "execution_count": 34
        }
      ]
    },
    {
      "cell_type": "code",
      "source": [
        "to_julian(\"31,DEC 9999\")"
      ],
      "metadata": {
        "colab": {
          "base_uri": "https://localhost:8080/",
          "height": 36
        },
        "id": "ruAvK2nLyMoG",
        "outputId": "f19f47cb-f007-476a-8676-297922bbfa49"
      },
      "execution_count": 35,
      "outputs": [
        {
          "output_type": "execute_result",
          "data": {
            "text/plain": [
              "'9999365'"
            ],
            "application/vnd.google.colaboratory.intrinsic+json": {
              "type": "string"
            }
          },
          "metadata": {},
          "execution_count": 35
        }
      ]
    },
    {
      "cell_type": "code",
      "source": [
        "to_julian(\"15,JUN,2019\")"
      ],
      "metadata": {
        "colab": {
          "base_uri": "https://localhost:8080/",
          "height": 36
        },
        "id": "IvIXxD0cyN2-",
        "outputId": "a5009208-584c-4030-ce9f-4a69365ec42e"
      },
      "execution_count": 36,
      "outputs": [
        {
          "output_type": "execute_result",
          "data": {
            "text/plain": [
              "'2019166'"
            ],
            "application/vnd.google.colaboratory.intrinsic+json": {
              "type": "string"
            }
          },
          "metadata": {},
          "execution_count": 36
        }
      ]
    },
    {
      "cell_type": "code",
      "source": [
        "to_julian(\"28 APR 2021\")"
      ],
      "metadata": {
        "colab": {
          "base_uri": "https://localhost:8080/",
          "height": 36
        },
        "id": "NwZXPZQqyOlT",
        "outputId": "86f8ef2d-f96f-4705-f5ef-7063e7990ea7"
      },
      "execution_count": 37,
      "outputs": [
        {
          "output_type": "execute_result",
          "data": {
            "text/plain": [
              "'2021118'"
            ],
            "application/vnd.google.colaboratory.intrinsic+json": {
              "type": "string"
            }
          },
          "metadata": {},
          "execution_count": 37
        }
      ]
    },
    {
      "cell_type": "code",
      "source": [
        "to_julian(\"15, december, 2020\")"
      ],
      "metadata": {
        "colab": {
          "base_uri": "https://localhost:8080/",
          "height": 36
        },
        "id": "CRSoOZj2yvB1",
        "outputId": "733ce199-1bba-4cb4-9a42-7f8a8b19ba9c"
      },
      "execution_count": 38,
      "outputs": [
        {
          "output_type": "execute_result",
          "data": {
            "text/plain": [
              "'2020350'"
            ],
            "application/vnd.google.colaboratory.intrinsic+json": {
              "type": "string"
            }
          },
          "metadata": {},
          "execution_count": 38
        }
      ]
    }
  ]
}