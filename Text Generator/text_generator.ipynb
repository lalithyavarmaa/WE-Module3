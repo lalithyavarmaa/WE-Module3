{
  "nbformat": 4,
  "nbformat_minor": 0,
  "metadata": {
    "colab": {
      "provenance": []
    },
    "kernelspec": {
      "name": "python3",
      "display_name": "Python 3"
    },
    "language_info": {
      "name": "python"
    }
  },
  "cells": [
    {
      "cell_type": "code",
      "execution_count": 33,
      "metadata": {
        "id": "VSTXl4KKoyoj"
      },
      "outputs": [],
      "source": [
        "import random\n",
        "import re\n",
        "from collections import defaultdict"
      ]
    },
    {
      "cell_type": "code",
      "source": [
        "def preprocess_text(text):\n",
        "    text = text.lower()\n",
        "    text = re.sub(r'[^a-zA-Z\\s]', '', text)\n",
        "    words = text.split()\n",
        "    return words"
      ],
      "metadata": {
        "id": "GTv82wVuN1DA"
      },
      "execution_count": 34,
      "outputs": []
    },
    {
      "cell_type": "code",
      "source": [
        "def build_markov_chain(words, chain_length):\n",
        "    transitions = defaultdict(lambda: defaultdict(int))\n",
        "\n",
        "    for i in range(len(words) - chain_length):\n",
        "        current_state = tuple(words[i:i + chain_length])\n",
        "        next_state = words[i + chain_length]\n",
        "        transitions[current_state][next_state] += 1\n",
        "\n",
        "    markov_chain = defaultdict(dict)\n",
        "    for current_state, next_states in transitions.items():\n",
        "        total_transitions = sum(next_states.values())\n",
        "        for next_state, count in next_states.items():\n",
        "            markov_chain[current_state][next_state] = count / total_transitions\n",
        "\n",
        "    return markov_chain"
      ],
      "metadata": {
        "id": "GSIacWrpN4gs"
      },
      "execution_count": 35,
      "outputs": []
    },
    {
      "cell_type": "code",
      "source": [
        "def generate_sentence(markov_chain, start_words, num_generated):\n",
        "    current_state = tuple(start_words)\n",
        "    generated_sentence = list(current_state)\n",
        "\n",
        "    for _ in range(num_generated):\n",
        "        next_states = markov_chain.get(current_state, {})\n",
        "        if not next_states:\n",
        "            break\n",
        "        next_state = random.choices(list(next_states.keys()), list(next_states.values()))[0]\n",
        "        generated_sentence.append(next_state)\n",
        "        current_state = tuple(generated_sentence[-len(start_words):])\n",
        "\n",
        "    return ' '.join(generated_sentence)"
      ],
      "metadata": {
        "id": "SISeDDimN8Yy"
      },
      "execution_count": 36,
      "outputs": []
    },
    {
      "cell_type": "code",
      "source": [
        "def generate_from_corpus(text, start_words, chain_length, num_generated):\n",
        "    words = preprocess_text(text)\n",
        "    markov_chain = build_markov_chain(words, chain_length)\n",
        "    generated_sentence = generate_sentence(markov_chain, start_words, num_generated)\n",
        "    return generated_sentence"
      ],
      "metadata": {
        "id": "vFwq8NlKOAGE"
      },
      "execution_count": 37,
      "outputs": []
    },
    {
      "cell_type": "code",
      "source": [
        "# Test Case 1: Basic Test\n",
        "text_corpus_1 = \"\"\"\n",
        "This is a sample text corpus. It contains some words that we can use to build a Markov chain model.\n",
        "The Markov chain model will generate sentences based on the structure and patterns of this text corpus.\n",
        "\"\"\"\n",
        "start_words_1 = ['this', 'is']\n",
        "chain_length_1 = 2\n",
        "num_generated_1 = 10\n",
        "generated_sentence_1 = generate_from_corpus(text_corpus_1, start_words_1, chain_length_1, num_generated_1)\n",
        "print(\"Generated Sentence (Test Case 1):\", generated_sentence_1)\n"
      ],
      "metadata": {
        "colab": {
          "base_uri": "https://localhost:8080/"
        },
        "id": "KDPX_D59OPtT",
        "outputId": "36c3df2e-6b4b-4c63-8622-9dd22c4108be"
      },
      "execution_count": 46,
      "outputs": [
        {
          "output_type": "stream",
          "name": "stdout",
          "text": [
            "Generated Sentence (Test Case 1): this is a sample text corpus it contains some words that we\n"
          ]
        }
      ]
    },
    {
      "cell_type": "code",
      "source": [
        "# Test Case 2: Longer Chain Length\n",
        "text_corpus_2 = \"\"\"\n",
        "This is a sample text corpus. It contains some words that we can use to build a Markov chain model.\n",
        "The Markov chain model will generate sentences based on the structure and patterns of this text corpus.\n",
        "\"\"\"\n",
        "start_words_2 = ['this', 'is']\n",
        "chain_length_2 = 3\n",
        "num_generated_2 = 10\n",
        "generated_sentence_2 = generate_from_corpus(text_corpus_2, start_words_2, chain_length_2, num_generated_2)\n",
        "print(\"Generated Sentence (Test Case 2):\", generated_sentence_2)\n"
      ],
      "metadata": {
        "colab": {
          "base_uri": "https://localhost:8080/"
        },
        "id": "5dqeE3dS7gvK",
        "outputId": "120ee2b2-c135-49a0-b0dc-93c340fbc91a"
      },
      "execution_count": 47,
      "outputs": [
        {
          "output_type": "stream",
          "name": "stdout",
          "text": [
            "Generated Sentence (Test Case 2): this is\n"
          ]
        }
      ]
    },
    {
      "cell_type": "code",
      "source": [
        "# Test Case 3: Different Start Words\n",
        "text_corpus_3 = \"\"\"\n",
        "This is a sample text corpus. It contains some words that we can use to build a Markov chain model.\n",
        "The Markov chain model will generate sentences based on the structure and patterns of this text corpus.\n",
        "\"\"\"\n",
        "start_words_3 = ['sample', 'text']\n",
        "chain_length_3 = 2\n",
        "num_generated_3 = 10\n",
        "generated_sentence_3 = generate_from_corpus(text_corpus_3, start_words_3, chain_length_3, num_generated_3)\n",
        "print(\"Generated Sentence (Test Case 3):\", generated_sentence_3)\n"
      ],
      "metadata": {
        "colab": {
          "base_uri": "https://localhost:8080/"
        },
        "id": "PoCjhJcl7nB6",
        "outputId": "3bed8384-9e8d-47c5-bd32-1fd360cbe0a3"
      },
      "execution_count": 48,
      "outputs": [
        {
          "output_type": "stream",
          "name": "stdout",
          "text": [
            "Generated Sentence (Test Case 3): sample text corpus it contains some words that we can use to\n"
          ]
        }
      ]
    },
    {
      "cell_type": "code",
      "source": [
        "# Test Case 4: Varying Number of Words Generated\n",
        "text_corpus_4 = \"\"\"\n",
        "This is a sample text corpus. It contains some words that we can use to build a Markov chain model.\n",
        "The Markov chain model will generate sentences based on the structure and patterns of this text corpus.\n",
        "\"\"\"\n",
        "start_words_4 = ['this', 'is']\n",
        "chain_length_4 = 2\n",
        "num_generated_15 = 15\n",
        "num_generated_5 = 5\n",
        "generated_sentence_4 = generate_from_corpus(text_corpus_4, start_words_4, chain_length_4, num_generated_15)\n",
        "generated_sentence_5 = generate_from_corpus(text_corpus_4, start_words_4, chain_length_4, num_generated_5)\n",
        "print(\"Generated Sentence (Test Case 4 - 15 words):\", generated_sentence_4)\n",
        "print(\"Generated Sentence (Test Case 4 - 5 words):\", generated_sentence_5)\n"
      ],
      "metadata": {
        "colab": {
          "base_uri": "https://localhost:8080/"
        },
        "id": "BwQ2KOQb7r-U",
        "outputId": "ee087f2e-a324-41f4-eb17-f1b0110506c9"
      },
      "execution_count": 49,
      "outputs": [
        {
          "output_type": "stream",
          "name": "stdout",
          "text": [
            "Generated Sentence (Test Case 4 - 15 words): this is a sample text corpus it contains some words that we can use to build a\n",
            "Generated Sentence (Test Case 4 - 5 words): this is a sample text corpus it\n"
          ]
        }
      ]
    }
  ]
}