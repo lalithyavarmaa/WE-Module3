{
  "nbformat": 4,
  "nbformat_minor": 0,
  "metadata": {
    "colab": {
      "provenance": []
    },
    "kernelspec": {
      "name": "python3",
      "display_name": "Python 3"
    },
    "language_info": {
      "name": "python"
    }
  },
  "cells": [
    {
      "cell_type": "code",
      "source": [
        "import random\n",
        "\n",
        "def roll_dice(num_dice):\n",
        "    return [random.randint(1, 6) for _ in range(num_dice)]"
      ],
      "metadata": {
        "id": "dbVeuy-ebmXF"
      },
      "execution_count": 35,
      "outputs": []
    },
    {
      "cell_type": "code",
      "source": [
        "def reroll_dice(dice, dice_to_reroll):\n",
        "    return [die if i not in dice_to_reroll else random.randint(1, 6) for i, die in enumerate(dice)]"
      ],
      "metadata": {
        "id": "fMUSyp3pbsQx"
      },
      "execution_count": 34,
      "outputs": []
    },
    {
      "cell_type": "code",
      "source": [
        "def print_dice(dice):\n",
        "    print(\"Dice:\", dice)"
      ],
      "metadata": {
        "id": "D17pkhk9b0UP"
      },
      "execution_count": 36,
      "outputs": []
    },
    {
      "cell_type": "code",
      "source": [
        "def print_scorecard(scorecard):\n",
        "    print(\"Scorecard:\")\n",
        "    for category, score in scorecard.items():\n",
        "        print(f\"{category}: {score}\")\n",
        "    print()"
      ],
      "metadata": {
        "id": "4HpMjDqob33D"
      },
      "execution_count": 37,
      "outputs": []
    },
    {
      "cell_type": "code",
      "source": [
        "def yahtzee_score(dice, category):\n",
        "    if category == \"Ones\":\n",
        "        return dice.count(1)\n",
        "    elif category == \"Twos\":\n",
        "        return 2 * dice.count(2)\n",
        "    elif category == \"Threes\":\n",
        "        return 3 * dice.count(3)\n",
        "    elif category == \"Fours\":\n",
        "        return 4 * dice.count(4)\n",
        "    elif category == \"Fives\":\n",
        "        return 5 * dice.count(5)\n",
        "    elif category == \"Sixes\":\n",
        "        return 6 * dice.count(6)\n",
        "    elif category == \"Three of a Kind\":\n",
        "        for num in range(1, 7):\n",
        "            if dice.count(num) >= 3:\n",
        "                return sum(dice)\n",
        "        return 0\n",
        "    elif category == \"Four of a Kind\":\n",
        "        for num in range(1, 7):\n",
        "            if dice.count(num) >= 4:\n",
        "                return sum(dice)\n",
        "        return 0\n",
        "    elif category == \"Full House\":\n",
        "        if len(set(dice)) == 2 and (dice.count(dice[0]) == 2 or dice.count(dice[0]) == 3):\n",
        "            return 25\n",
        "        return 0\n",
        "    elif category == \"Small Straight\":\n",
        "        if sorted(set(dice)) in [[1, 2, 3, 4], [2, 3, 4, 5], [3, 4, 5, 6]]:\n",
        "            return 30\n",
        "        return 0\n",
        "\n",
        "    elif category == \"Large Straight\":\n",
        "        if sorted(set(dice)) in [[1, 2, 3, 4, 5], [2, 3, 4, 5, 6]]:\n",
        "            return 40\n",
        "        return 0\n",
        "    elif category == \"Yahtzee\":\n",
        "        if dice.count(dice[0]) == len(dice):\n",
        "            return 50\n",
        "        return 0\n",
        "    elif category == \"Chance\":\n",
        "        return sum(dice)"
      ],
      "metadata": {
        "id": "y43M6WeYcC2q"
      },
      "execution_count": 43,
      "outputs": []
    },
    {
      "cell_type": "code",
      "source": [
        "def play():\n",
        "    categories = [\"Ones\", \"Twos\", \"Threes\", \"Fours\", \"Fives\", \"Sixes\",\n",
        "                  \"Three of a Kind\", \"Four of a Kind\", \"Full House\",\n",
        "                  \"Small Straight\", \"Large Straight\", \"Yahtzee\", \"Chance\"]\n",
        "    scorecard = {category: None for category in categories}\n",
        "    rolls_left = 3\n",
        "\n",
        "    while list(scorecard.values()).count(None) > 0:\n",
        "        dice = roll_dice(5)\n",
        "        print_dice(dice)\n",
        "\n",
        "        for _ in range(2):\n",
        "            keep = input(\"Enter the indexes of dice to keep (e.g., '0 2 4'), or 'n' to keep none: \")\n",
        "            if keep.lower() == 'n':\n",
        "                break\n",
        "            else:\n",
        "                keep_indexes = [int(i) for i in keep.split()]\n",
        "                dice_to_reroll = [i for i in range(5) if i not in keep_indexes]\n",
        "                dice = reroll_dice(dice, dice_to_reroll)\n",
        "                print_dice(dice)\n",
        "\n",
        "        category = input(\"Enter the category to score in: \")\n",
        "        if scorecard[category] is None:\n",
        "            score = yahtzee_score(dice, category)\n",
        "            if category in [\"Ones\", \"Twos\", \"Threes\", \"Fours\", \"Fives\", \"Sixes\"]:\n",
        "                upper_section_score = sum(scorecard[cat] for cat in [\"Ones\", \"Twos\", \"Threes\", \"Fours\", \"Fives\", \"Sixes\"] if scorecard[cat] is not None)\n",
        "                if upper_section_score >= 63 and scorecard[category] is None:\n",
        "                    score += 35\n",
        "            if category == \"Yahtzee\":\n",
        "                if scorecard[\"Yahtzee\"] is not None:\n",
        "                    score += 100\n",
        "            scorecard[category] = score\n",
        "            print(f\"Scored {score} in {category}!\\n\")\n",
        "        else:\n",
        "            print(f\"You've already scored in {category}!\\n\")\n",
        "\n",
        "        print_scorecard(scorecard)"
      ],
      "metadata": {
        "id": "F-RGlKGMc3i6"
      },
      "execution_count": null,
      "outputs": []
    },
    {
      "cell_type": "code",
      "source": [
        "play()"
      ],
      "metadata": {
        "id": "luAzqV1ne87y",
        "outputId": "246520cd-e6d3-4230-954b-012f5ec6cb8a",
        "colab": {
          "base_uri": "https://localhost:8080/"
        }
      },
      "execution_count": null,
      "outputs": [
        {
          "output_type": "stream",
          "name": "stdout",
          "text": [
            "Dice: [3, 6, 2, 3, 5]\n"
          ]
        }
      ]
    }
  ]
}